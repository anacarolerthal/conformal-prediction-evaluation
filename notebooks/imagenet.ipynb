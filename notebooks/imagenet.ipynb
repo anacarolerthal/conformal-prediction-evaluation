{
 "cells": [
  {
   "cell_type": "code",
   "execution_count": 68,
   "metadata": {},
   "outputs": [],
   "source": [
    "import pandas\n",
    "import torchvision\n",
    "import torch\n",
    "import torch.nn as nn\n",
    "import torch.nn.functional as F\n",
    "from torchvision import transforms\n",
    "import torchmetrics"
   ]
  },
  {
   "cell_type": "code",
   "execution_count": 69,
   "metadata": {},
   "outputs": [
    {
     "name": "stderr",
     "output_type": "stream",
     "text": [
      "c:\\Users\\leomo\\AppData\\Local\\Programs\\Python\\Python311\\Lib\\site-packages\\torchvision\\models\\_utils.py:223: UserWarning: Arguments other than a weight enum or `None` for 'weights' are deprecated since 0.13 and may be removed in the future. The current behavior is equivalent to passing `weights=ResNet152_Weights.IMAGENET1K_V1`. You can also use `weights=ResNet152_Weights.DEFAULT` to get the most up-to-date weights.\n",
      "  warnings.warn(msg)\n"
     ]
    }
   ],
   "source": [
    "model = torchvision.models.resnet152(weights=True).cuda()"
   ]
  },
  {
   "cell_type": "code",
   "execution_count": 70,
   "metadata": {},
   "outputs": [],
   "source": [
    "normalize = transforms.Compose(\n",
    "    [transforms.Resize(256),\n",
    "     transforms.CenterCrop(224),\n",
    "     transforms.ToTensor(),\n",
    "     transforms.Normalize([0.485, 0.456, 0.406],[0.229, 0.224, 0.225])\n",
    "    ])\n",
    "\n",
    "imagenet = torchvision.datasets.ImageNet(root='data', split='val', transform=normalize)"
   ]
  },
  {
   "cell_type": "code",
   "execution_count": 71,
   "metadata": {},
   "outputs": [],
   "source": [
    "#validation test split\n",
    "val_loader, test_loader = torch.utils.data.random_split(imagenet, [int(len(imagenet)*0.2), int(len(imagenet)*0.8)])\n",
    "val_loader = torch.utils.data.DataLoader(val_loader, batch_size=8, shuffle=False, num_workers=1)\n",
    "test_loader = torch.utils.data.DataLoader(test_loader, batch_size=8, shuffle=False, num_workers=1)\n"
   ]
  },
  {
   "cell_type": "code",
   "execution_count": 72,
   "metadata": {},
   "outputs": [],
   "source": [
    "model.eval()\n",
    "predictions = torch.tensor([])\n",
    "targets = torch.tensor([])\n",
    "with torch.no_grad():\n",
    "    for i, (x, y) in enumerate(test_loader):\n",
    "        x = x.cuda()\n",
    "        y_hat = model(x)\n",
    "        predictions = torch.cat((predictions, y_hat.cpu()))\n",
    "        targets = torch.cat((targets, y.cpu()))"
   ]
  },
  {
   "cell_type": "code",
   "execution_count": 73,
   "metadata": {},
   "outputs": [
    {
     "name": "stdout",
     "output_type": "stream",
     "text": [
      "Accuracy: 0.7852500081062317\n"
     ]
    }
   ],
   "source": [
    "accScore = torchmetrics.functional.accuracy(predictions, targets, task='multiclass', num_classes=1000)\n",
    "print(f'Accuracy: {accScore.detach()}')"
   ]
  },
  {
   "cell_type": "code",
   "execution_count": 91,
   "metadata": {},
   "outputs": [
    {
     "data": {
      "text/plain": [
       "torch.Size([40000, 1000])"
      ]
     },
     "execution_count": 91,
     "metadata": {},
     "output_type": "execute_result"
    }
   ],
   "source": [
    "predictions.shape"
   ]
  },
  {
   "cell_type": "code",
   "execution_count": 101,
   "metadata": {},
   "outputs": [
    {
     "name": "stdout",
     "output_type": "stream",
     "text": [
      "ECE in test set: 0.049\n",
      "NLL in test set: 0.873\n"
     ]
    }
   ],
   "source": [
    "from temp_scale import _ECELoss\n",
    "print('ECE in test set: %.3f' % _ECELoss()(predictions, targets))\n",
    "print('NLL in test set: %.3f' % F.cross_entropy(predictions, targets.type(torch.LongTensor)))"
   ]
  },
  {
   "cell_type": "code",
   "execution_count": 77,
   "metadata": {},
   "outputs": [],
   "source": [
    "from temp_scale import ModelWithTemperature\n",
    "\n",
    "temp_calib_model = ModelWithTemperature(model)"
   ]
  },
  {
   "cell_type": "code",
   "execution_count": 78,
   "metadata": {},
   "outputs": [
    {
     "name": "stdout",
     "output_type": "stream",
     "text": [
      "Before temperature - NLL: 0.890, ECE: 0.054\n",
      "Optimal temperature: 1.377\n",
      "After temperature - NLL: 0.879, ECE: 0.035\n"
     ]
    }
   ],
   "source": [
    "temp_calib_model = temp_calib_model.set_temperature(val_loader)"
   ]
  },
  {
   "cell_type": "code",
   "execution_count": 79,
   "metadata": {},
   "outputs": [],
   "source": [
    "temp_calib_model.eval()\n",
    "ts_predictions = torch.tensor([])\n",
    "ts_targets = torch.tensor([])\n",
    "with torch.no_grad():\n",
    "    for i, (x, y) in enumerate(test_loader):\n",
    "        x = x.cuda()\n",
    "        y_hat = temp_calib_model(x)\n",
    "        ts_predictions = torch.cat((ts_predictions, y_hat.cpu()))\n",
    "        ts_targets = torch.cat((ts_targets, y.cpu()))"
   ]
  },
  {
   "cell_type": "code",
   "execution_count": 80,
   "metadata": {},
   "outputs": [
    {
     "name": "stdout",
     "output_type": "stream",
     "text": [
      "Accuracy: 0.7852500081062317\n"
     ]
    }
   ],
   "source": [
    "accScore = torchmetrics.functional.accuracy(ts_predictions, ts_targets, task='multiclass', num_classes=1000)\n",
    "print(f'Accuracy: {accScore.detach()}')"
   ]
  },
  {
   "cell_type": "code",
   "execution_count": 102,
   "metadata": {},
   "outputs": [
    {
     "name": "stdout",
     "output_type": "stream",
     "text": [
      "ECE in test set: 0.041\n",
      "NLL in test set: 0.861\n"
     ]
    }
   ],
   "source": [
    "from temp_scale import _ECELoss\n",
    "print('ECE in test set: %.3f' % _ECELoss()(ts_predictions, ts_targets))\n",
    "print('NLL in test set: %.3f' % F.cross_entropy(ts_predictions, ts_targets.type(torch.LongTensor)))"
   ]
  }
 ],
 "metadata": {
  "kernelspec": {
   "display_name": "Python 3",
   "language": "python",
   "name": "python3"
  },
  "language_info": {
   "codemirror_mode": {
    "name": "ipython",
    "version": 3
   },
   "file_extension": ".py",
   "mimetype": "text/x-python",
   "name": "python",
   "nbconvert_exporter": "python",
   "pygments_lexer": "ipython3",
   "version": "3.11.0"
  },
  "orig_nbformat": 4
 },
 "nbformat": 4,
 "nbformat_minor": 2
}
