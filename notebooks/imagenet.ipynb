{
 "cells": [
  {
   "cell_type": "code",
   "execution_count": 59,
   "metadata": {},
   "outputs": [],
   "source": [
    "import pandas\n",
    "import torchvision\n",
    "import torch\n",
    "import torch.nn as nn\n",
    "import torch.nn.functional as F\n",
    "from torchvision import transforms\n",
    "import torchmetrics\n",
    "import numpy as np"
   ]
  },
  {
   "cell_type": "code",
   "execution_count": 60,
   "metadata": {},
   "outputs": [
    {
     "name": "stderr",
     "output_type": "stream",
     "text": [
      "c:\\Users\\leomo\\AppData\\Local\\Programs\\Python\\Python311\\Lib\\site-packages\\torchvision\\models\\_utils.py:223: UserWarning: Arguments other than a weight enum or `None` for 'weights' are deprecated since 0.13 and may be removed in the future. The current behavior is equivalent to passing `weights=ResNet152_Weights.IMAGENET1K_V1`. You can also use `weights=ResNet152_Weights.DEFAULT` to get the most up-to-date weights.\n",
      "  warnings.warn(msg)\n"
     ]
    }
   ],
   "source": [
    "model = torchvision.models.resnet152(weights=True).cuda()"
   ]
  },
  {
   "cell_type": "code",
   "execution_count": 61,
   "metadata": {},
   "outputs": [],
   "source": [
    "normalize = transforms.Compose(\n",
    "    [transforms.Resize(256),\n",
    "     transforms.CenterCrop(224),\n",
    "     transforms.ToTensor(),\n",
    "     transforms.Normalize([0.485, 0.456, 0.406],[0.229, 0.224, 0.225])\n",
    "    ])\n",
    "\n",
    "imagenet = torchvision.datasets.ImageNet(root='data', split='val', transform=normalize)"
   ]
  },
  {
   "cell_type": "code",
   "execution_count": 62,
   "metadata": {},
   "outputs": [],
   "source": [
    "#validation test split\n",
    "val_set, test_set = torch.utils.data.random_split(imagenet, [int(len(imagenet)*0.2), int(len(imagenet)*0.8)])\n",
    "val_loader = torch.utils.data.DataLoader(val_set, batch_size=8, shuffle=False, num_workers=3)\n",
    "test_loader = torch.utils.data.DataLoader(test_set, batch_size=8, shuffle=False, num_workers=3)\n"
   ]
  },
  {
   "cell_type": "code",
   "execution_count": 63,
   "metadata": {},
   "outputs": [],
   "source": [
    "def predict(model, loader):\n",
    "    model.eval()\n",
    "    predictions = torch.tensor([])\n",
    "    targets = torch.tensor([])\n",
    "    with torch.no_grad():\n",
    "        for i, (x, y) in enumerate(loader):\n",
    "            x = x.cuda()\n",
    "            y_hat = model(x)\n",
    "            predictions = torch.cat((predictions, y_hat.cpu()))\n",
    "            targets = torch.cat((targets, y.cpu()))\n",
    "    return predictions, targets"
   ]
  },
  {
   "cell_type": "code",
   "execution_count": 64,
   "metadata": {},
   "outputs": [],
   "source": [
    "predictions, targets = predict(model, test_loader)"
   ]
  },
  {
   "cell_type": "code",
   "execution_count": 65,
   "metadata": {},
   "outputs": [
    {
     "name": "stdout",
     "output_type": "stream",
     "text": [
      "Accuracy: 0.784375011920929\n"
     ]
    }
   ],
   "source": [
    "accScore = torchmetrics.functional.accuracy(predictions, targets, task='multiclass', num_classes=1000)\n",
    "print(f'Accuracy: {accScore.detach()}')"
   ]
  },
  {
   "cell_type": "code",
   "execution_count": 66,
   "metadata": {},
   "outputs": [
    {
     "name": "stdout",
     "output_type": "stream",
     "text": [
      "ECE in test set: 0.049\n",
      "NLL in test set: 0.875\n"
     ]
    }
   ],
   "source": [
    "from temp_scale import _ECELoss\n",
    "print('ECE in test set: %.3f' % _ECELoss()(predictions, targets))\n",
    "print('NLL in test set: %.3f' % F.cross_entropy(predictions, targets.type(torch.LongTensor)))"
   ]
  },
  {
   "cell_type": "code",
   "execution_count": 67,
   "metadata": {},
   "outputs": [],
   "source": [
    "from temp_scale import ModelWithTemperature\n",
    "\n",
    "temp_calib_model = ModelWithTemperature(model)"
   ]
  },
  {
   "cell_type": "code",
   "execution_count": 68,
   "metadata": {},
   "outputs": [
    {
     "name": "stdout",
     "output_type": "stream",
     "text": [
      "Before temperature - NLL: 0.883, ECE: 0.053\n",
      "Optimal temperature: 1.379\n",
      "After temperature - NLL: 0.870, ECE: 0.039\n"
     ]
    }
   ],
   "source": [
    "temp_calib_model = temp_calib_model.set_temperature(val_loader)"
   ]
  },
  {
   "cell_type": "code",
   "execution_count": 69,
   "metadata": {},
   "outputs": [],
   "source": [
    "ts_predictions, ts_targets = predict(temp_calib_model, test_loader)"
   ]
  },
  {
   "cell_type": "code",
   "execution_count": 70,
   "metadata": {},
   "outputs": [
    {
     "name": "stdout",
     "output_type": "stream",
     "text": [
      "Accuracy: 0.784375011920929\n"
     ]
    }
   ],
   "source": [
    "accScore = torchmetrics.functional.accuracy(ts_predictions, ts_targets, task='multiclass', num_classes=1000)\n",
    "print(f'Accuracy: {accScore.detach()}')"
   ]
  },
  {
   "cell_type": "code",
   "execution_count": 71,
   "metadata": {},
   "outputs": [
    {
     "name": "stdout",
     "output_type": "stream",
     "text": [
      "ECE in test set: 0.041\n",
      "NLL in test set: 0.864\n"
     ]
    }
   ],
   "source": [
    "from temp_scale import _ECELoss\n",
    "print('ECE in test set: %.3f' % _ECELoss()(ts_predictions, ts_targets))\n",
    "print('NLL in test set: %.3f' % F.cross_entropy(ts_predictions, ts_targets.type(torch.LongTensor)))"
   ]
  },
  {
   "cell_type": "code",
   "execution_count": 72,
   "metadata": {},
   "outputs": [],
   "source": [
    "cal_predictions, cal_targets = predict(temp_calib_model, val_loader)"
   ]
  },
  {
   "cell_type": "code",
   "execution_count": 73,
   "metadata": {},
   "outputs": [],
   "source": [
    "#softmax for predictions tensor\n",
    "val_smx = nn.Softmax(dim=1)(predictions)\n",
    "val_ts_smx = nn.Softmax(dim=1)(ts_predictions)\n",
    "cal_smx = nn.Softmax(dim=1)(cal_predictions)\n",
    "#val_ts_smx = nn.Softmax(dim=1)(ts_test_predictions)"
   ]
  },
  {
   "cell_type": "code",
   "execution_count": 77,
   "metadata": {},
   "outputs": [],
   "source": [
    "import conformal_logits"
   ]
  },
  {
   "cell_type": "code",
   "execution_count": 78,
   "metadata": {},
   "outputs": [
    {
     "ename": "NameError",
     "evalue": "name 'np' is not defined",
     "output_type": "error",
     "traceback": [
      "\u001b[1;31m---------------------------------------------------------------------------\u001b[0m",
      "\u001b[1;31mNameError\u001b[0m                                 Traceback (most recent call last)",
      "\u001b[1;32mc:\\Users\\leomo\\Desktop\\conformal-prediction-evaluation\\notebooks\\imagenet.ipynb Célula 17\u001b[0m in \u001b[0;36m2\n\u001b[0;32m      <a href='vscode-notebook-cell:/c%3A/Users/leomo/Desktop/conformal-prediction-evaluation/notebooks/imagenet.ipynb#X41sZmlsZQ%3D%3D?line=0'>1</a>\u001b[0m \u001b[39mfrom\u001b[39;00m \u001b[39mconformal_logits\u001b[39;00m \u001b[39mimport\u001b[39;00m conformal, evaluate_conformal, create_fake_logits\n\u001b[1;32m----> <a href='vscode-notebook-cell:/c%3A/Users/leomo/Desktop/conformal-prediction-evaluation/notebooks/imagenet.ipynb#X41sZmlsZQ%3D%3D?line=1'>2</a>\u001b[0m conformal(cal_smx, cal_targets, val_smx, targets, \u001b[39mlen\u001b[39;49m(cal_targets))\n",
      "File \u001b[1;32mc:\\Users\\leomo\\Desktop\\conformal-prediction-evaluation\\notebooks\\conformal_logits.py:3\u001b[0m, in \u001b[0;36mconformal\u001b[1;34m(cal_smx, cal_labels, val_labels, val_smx, size_cal_set)\u001b[0m\n\u001b[0;32m      2\u001b[0m \u001b[39mdef\u001b[39;00m \u001b[39mconformal\u001b[39m(cal_smx, cal_labels, val_labels, val_smx, size_cal_set):\n\u001b[1;32m----> 3\u001b[0m     cal_scores \u001b[39m=\u001b[39m \u001b[39m1\u001b[39m \u001b[39m-\u001b[39m cal_smx[np\u001b[39m.\u001b[39marange(size_cal_set), cal_labels]\n\u001b[0;32m      4\u001b[0m     alphas \u001b[39m=\u001b[39m []\n\u001b[0;32m      5\u001b[0m     prediction_sets \u001b[39m=\u001b[39m []\n",
      "\u001b[1;31mNameError\u001b[0m: name 'np' is not defined"
     ]
    }
   ],
   "source": [
    "from conformal_logits import conformal, evaluate_conformal, create_fake_logits\n",
    "conformal(cal_smx, cal_targets, val_smx, targets, len(cal_targets))"
   ]
  },
  {
   "cell_type": "code",
   "execution_count": null,
   "metadata": {},
   "outputs": [
    {
     "data": {
      "text/plain": [
       "torch.Size([40000, 1000])"
      ]
     },
     "execution_count": 23,
     "metadata": {},
     "output_type": "execute_result"
    }
   ],
   "source": [
    "cal_smx.shape"
   ]
  }
 ],
 "metadata": {
  "kernelspec": {
   "display_name": "Python 3",
   "language": "python",
   "name": "python3"
  },
  "language_info": {
   "codemirror_mode": {
    "name": "ipython",
    "version": 3
   },
   "file_extension": ".py",
   "mimetype": "text/x-python",
   "name": "python",
   "nbconvert_exporter": "python",
   "pygments_lexer": "ipython3",
   "version": "3.11.0"
  },
  "orig_nbformat": 4
 },
 "nbformat": 4,
 "nbformat_minor": 2
}
