{
 "cells": [
  {
   "cell_type": "code",
   "execution_count": 5,
   "metadata": {},
   "outputs": [],
   "source": [
    "import pandas\n",
    "import torchvision\n",
    "import torch\n",
    "import torch.nn as nn\n",
    "import torch.nn.functional as F\n",
    "import sys\n",
    "path = sys.path.insert(1,\"C:/PythonEnviroments/pytorch_resnet_cifar10\")\n",
    "from resnet import resnet110\n",
    "from torchvision import transforms\n",
    "import torchmetrics\n",
    "import dill"
   ]
  },
  {
   "cell_type": "code",
   "execution_count": 9,
   "metadata": {},
   "outputs": [],
   "source": [
    "# the network architecture coresponding to the checkpoint\n",
    "model = resnet110()\n",
    "\n",
    "# remember to set map_location\n",
    "check_point = torch.load('models/resnet110-1d1ed7c2.pth', map_location='cuda:0')\n",
    "\n",
    "# cause the model are saved from Parallel, we need to wrap it\n",
    "model = torch.nn.DataParallel(model)\n",
    "model.load_state_dict(check_point['state_dict'])\n",
    "\n",
    "# pay attention to .module! without this, if you load the model, it will be attached with [Parallel.module]\n",
    "# that will lead to some trouble!\n",
    "torch.save(model.module, 'resnet110.pth', pickle_module=dill)\n",
    "\n",
    "# load the converted pretrained model\n",
    "model = torch.load('resnet110.pth', map_location='cuda:0')\n"
   ]
  },
  {
   "cell_type": "code",
   "execution_count": 7,
   "metadata": {},
   "outputs": [
    {
     "name": "stdout",
     "output_type": "stream",
     "text": [
      "Files already downloaded and verified\n",
      "Files already downloaded and verified\n"
     ]
    }
   ],
   "source": [
    "\n",
    "import torchvision.transforms as transforms\n",
    "normalize = transforms.Normalize(mean=[0.485, 0.456, 0.406],\n",
    "                                     std=[0.229, 0.224, 0.225])\n",
    "transform = transforms.Compose([\n",
    "    transforms.ToTensor(),\n",
    "    normalize,\n",
    "])\n",
    "\n",
    "train_set = torchvision.datasets.CIFAR10(\n",
    "    root=\"./data\", train=True, download=True,\n",
    "    transform=transform,\n",
    ")\n",
    "test_set = torchvision.datasets.CIFAR10(\n",
    "    root=\"./data\", train=False, download=True,\n",
    "    transform=transform\n",
    ")\n",
    "\n",
    "test_set, val_set = torch.utils.data.random_split(test_set, [int(len(test_set) * 0.5), int(len(test_set) * 0.5)])\n",
    "\n",
    "train_loader = torch.utils.data.DataLoader(\n",
    "    train_set, batch_size=128, shuffle=True, num_workers=2)\n",
    "test_loader = torch.utils.data.DataLoader(\n",
    "    test_set, batch_size=128, shuffle=False, num_workers=2)\n",
    "val_loader = torch.utils.data.DataLoader(\n",
    "    val_set, batch_size=128, shuffle=False, num_workers=2)\n"
   ]
  },
  {
   "cell_type": "code",
   "execution_count": 10,
   "metadata": {},
   "outputs": [],
   "source": [
    "model.eval()\n",
    "predictions = torch.tensor([])\n",
    "targets = torch.tensor([])\n",
    "with torch.no_grad():\n",
    "    for i, (x, y) in enumerate(test_loader):\n",
    "        x = x.cuda()\n",
    "        y_hat = model(x)\n",
    "        predictions = torch.cat((predictions, y_hat.cpu()))\n",
    "        targets = torch.cat((targets, y.cpu()))"
   ]
  },
  {
   "cell_type": "code",
   "execution_count": 12,
   "metadata": {},
   "outputs": [
    {
     "name": "stdout",
     "output_type": "stream",
     "text": [
      "Accuracy: 0.9363999962806702\n"
     ]
    }
   ],
   "source": [
    "accScore = torchmetrics.functional.accuracy(predictions, targets, task='multiclass', num_classes=10)\n",
    "print(f'Accuracy: {accScore.detach()}')"
   ]
  },
  {
   "cell_type": "code",
   "execution_count": 13,
   "metadata": {},
   "outputs": [
    {
     "name": "stdout",
     "output_type": "stream",
     "text": [
      "ECE in test set: 0.044\n",
      "NLL in test set: 0.299\n"
     ]
    }
   ],
   "source": [
    "from temp_scale import _ECELoss\n",
    "print('ECE in test set: %.3f' % _ECELoss()(predictions, targets))\n",
    "print('NLL in test set: %.3f' % F.cross_entropy(predictions, targets.type(torch.LongTensor)))"
   ]
  },
  {
   "cell_type": "code",
   "execution_count": 14,
   "metadata": {},
   "outputs": [],
   "source": [
    "from temp_scale import ModelWithTemperature\n",
    "\n",
    "temp_calib_model = ModelWithTemperature(model)"
   ]
  },
  {
   "cell_type": "code",
   "execution_count": 15,
   "metadata": {},
   "outputs": [
    {
     "name": "stdout",
     "output_type": "stream",
     "text": [
      "Before temperature - NLL: 0.312, ECE: 0.043\n",
      "Optimal temperature: 1.733\n",
      "After temperature - NLL: 0.214, ECE: 0.025\n"
     ]
    }
   ],
   "source": [
    "temp_calib_model = temp_calib_model.set_temperature(val_loader)"
   ]
  },
  {
   "cell_type": "code",
   "execution_count": 16,
   "metadata": {},
   "outputs": [],
   "source": [
    "temp_calib_model.eval()\n",
    "ts_predictions = torch.tensor([])\n",
    "ts_targets = torch.tensor([])\n",
    "with torch.no_grad():\n",
    "    for i, (x, y) in enumerate(test_loader):\n",
    "        x = x.cuda()\n",
    "        y_hat = temp_calib_model(x)\n",
    "        ts_predictions = torch.cat((ts_predictions, y_hat.cpu()))\n",
    "        ts_targets = torch.cat((ts_targets, y.cpu()))"
   ]
  },
  {
   "cell_type": "code",
   "execution_count": 18,
   "metadata": {},
   "outputs": [
    {
     "name": "stdout",
     "output_type": "stream",
     "text": [
      "Accuracy: 0.9363999962806702\n"
     ]
    }
   ],
   "source": [
    "accScore = torchmetrics.functional.accuracy(ts_predictions, ts_targets, task='multiclass', num_classes=10)\n",
    "print(f'Accuracy: {accScore.detach()}')"
   ]
  },
  {
   "cell_type": "code",
   "execution_count": 19,
   "metadata": {},
   "outputs": [
    {
     "name": "stdout",
     "output_type": "stream",
     "text": [
      "ECE in test set: 0.025\n",
      "NLL in test set: 0.206\n"
     ]
    }
   ],
   "source": [
    "from temp_scale import _ECELoss\n",
    "print('ECE in test set: %.3f' % _ECELoss()(ts_predictions, ts_targets))\n",
    "print('NLL in test set: %.3f' % F.cross_entropy(ts_predictions, ts_targets.type(torch.LongTensor)))"
   ]
  }
 ],
 "metadata": {
  "kernelspec": {
   "display_name": ".venv",
   "language": "python",
   "name": "python3"
  },
  "language_info": {
   "codemirror_mode": {
    "name": "ipython",
    "version": 3
   },
   "file_extension": ".py",
   "mimetype": "text/x-python",
   "name": "python",
   "nbconvert_exporter": "python",
   "pygments_lexer": "ipython3",
   "version": "3.11.0"
  },
  "orig_nbformat": 4
 },
 "nbformat": 4,
 "nbformat_minor": 2
}
