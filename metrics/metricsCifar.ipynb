{
 "cells": [
  {
   "cell_type": "code",
   "execution_count": null,
   "metadata": {},
   "outputs": [],
   "source": [
    "import pandas as pd"
   ]
  },
  {
   "cell_type": "code",
   "execution_count": null,
   "metadata": {},
   "outputs": [],
   "source": [
    "# read txt file into a DataFrame\n",
    "df = pd.read_csv('rcifar.txt', sep=',')"
   ]
  },
  {
   "cell_type": "code",
   "execution_count": null,
   "metadata": {},
   "outputs": [],
   "source": [
    "dict_translate = {\n",
    "    ' ece1': 'ECE Pré-calibração',\n",
    "    ' ece2': 'ECE Calibrado',\n",
    "    ' ece3': 'ECE Conformal',\n",
    "    ' nll1': 'NLL Pré-calibração',\n",
    "    ' nll2': 'NLL Calibrado',\n",
    "    ' cov1': 'Coverage Pré-calibração',\n",
    "    ' cov2': 'Coverage Calibrado',\n",
    "    ' cov3': 'Coverage Conformal',\n",
    "    ' mean_pred_set_size1': 'Mean Prediction Set Size Pré-calibração',\n",
    "    ' mean_pred_set_size2': 'Mean Prediction Set Size Calibrado',\n",
    "    ' mean_pred_set_size3': 'Mean Prediction Set Size Conformal',\n",
    "}"
   ]
  },
  {
   "cell_type": "code",
   "execution_count": null,
   "metadata": {},
   "outputs": [],
   "source": [
    "df.rename(columns=dict_translate, inplace=True)"
   ]
  },
  {
   "cell_type": "code",
   "execution_count": null,
   "metadata": {},
   "outputs": [],
   "source": [
    "mean_pred_set_alphas = df.groupby(' alpha')[['Mean Prediction Set Size Pré-calibração', 'Mean Prediction Set Size Calibrado', 'Mean Prediction Set Size Conformal']].mean().reset_index()"
   ]
  },
  {
   "cell_type": "code",
   "execution_count": null,
   "metadata": {},
   "outputs": [],
   "source": [
    "metrics = {\n",
    "    'Mean ECE Pré-Calibração': df['ECE Pré-calibração'].mean(),\n",
    "    'Std ECE Pré-Calibração': df['ECE Pré-calibração'].std(),\n",
    "    'Mean NLL Pré-Calibração': df['NLL Pré-calibração'].mean(),\n",
    "    'Mean Coverage Pré-Calibração': df['Coverage Pré-calibração'].mean(),\n",
    "    'Mean Prediction Set Size Pré-Calibração (alpha = 0.05)': mean_pred_set_alphas.loc[mean_pred_set_alphas[' alpha'] == 0.05, 'Mean Prediction Set Size Pré-calibração'].values[0],\n",
    "    'Mean Prediction Set Size Pré-Calibração (alpha = 0.1)': mean_pred_set_alphas.loc[mean_pred_set_alphas[' alpha'] == 0.1, 'Mean Prediction Set Size Pré-calibração'].values[0],\n",
    "\n",
    "\n",
    "    'Mean ECE Calibrado': df['ECE Calibrado'].mean(),\n",
    "    'Std ECE Calibrado': df['ECE Calibrado'].std(),\n",
    "    'Mean NLL Calibrado': df['NLL Calibrado'].mean(),\n",
    "    'Mean Coverage Calibrado': df['Coverage Calibrado'].mean(),\n",
    "    'Mean Prediction Set Size Calibrado (alpha = 0.05)': mean_pred_set_alphas.loc[mean_pred_set_alphas[' alpha'] == 0.05, 'Mean Prediction Set Size Calibrado'].values[0],\n",
    "    'Mean Prediction Set Size Calibrado (alpha = 0.1)': mean_pred_set_alphas.loc[mean_pred_set_alphas[' alpha'] == 0.1, 'Mean Prediction Set Size Calibrado'].values[0],\n",
    "    \n",
    "    'Mean ECE Conformal': df['ECE Conformal'].mean(),\n",
    "    'Std ECE Conformal': df['ECE Conformal'].std(),\n",
    "    'Mean Coverage Conformal': df['Coverage Conformal'].mean(),\n",
    "    'Mean Prediction Set Size Conformal (alpha = 0.05)': mean_pred_set_alphas.loc[mean_pred_set_alphas[' alpha'] == 0.05, 'Mean Prediction Set Size Conformal'].values[0],\n",
    "    'Mean Prediction Set Size Conformal (alpha = 0.1)': mean_pred_set_alphas.loc[mean_pred_set_alphas[' alpha'] == 0.1, 'Mean Prediction Set Size Conformal'].values[0],\n",
    "}"
   ]
  },
  {
   "cell_type": "code",
   "execution_count": null,
   "metadata": {},
   "outputs": [],
   "source": [
    "metrics"
   ]
  },
  {
   "cell_type": "code",
   "execution_count": null,
   "metadata": {},
   "outputs": [],
   "source": [
    "pd.DataFrame.from_dict(metrics, orient='index', columns=['Value'])"
   ]
  },
  {
   "cell_type": "code",
   "execution_count": null,
   "metadata": {},
   "outputs": [],
   "source": [
    "mean_pred_set_alphas = df.groupby(' alpha')[['Mean Prediction Set Size Pré-calibração', 'Mean Prediction Set Size Calibrado', 'Mean Prediction Set Size Conformal']].mean().reset_index()\n",
    "mean_coverage_alphas = df.groupby(' alpha')[['Coverage Pré-calibração', 'Coverage Calibrado', 'Coverage Conformal']].mean().reset_index()"
   ]
  },
  {
   "cell_type": "code",
   "execution_count": null,
   "metadata": {},
   "outputs": [],
   "source": [
    "metrics = {\n",
    "    'Mean Coverage Pré-Calibração (alpha = 0.05)': mean_coverage_alphas.loc[mean_coverage_alphas[' alpha'] == 0.05, 'Coverage Pré-calibração'].values[0],\n",
    "    'Mean Coverage Pré-Calibração (alpha = 0.1)': mean_coverage_alphas.loc[mean_coverage_alphas[' alpha'] == 0.1, 'Coverage Pré-calibração'].values[0],\n",
    "    'Mean Coverage Calibrado (alpha = 0.05)': mean_coverage_alphas.loc[mean_coverage_alphas[' alpha'] == 0.05, 'Coverage Calibrado'].values[0],\n",
    "    'Mean Coverage Calibrado (alpha = 0.1)': mean_coverage_alphas.loc[mean_coverage_alphas[' alpha'] == 0.1, 'Coverage Calibrado'].values[0],\n",
    "    'Mean Coverage Conformal (alpha = 0.05)': mean_coverage_alphas.loc[mean_coverage_alphas[' alpha'] == 0.05, 'Coverage Conformal'].values[0],\n",
    "    'Mean Coverage Conformal (alpha = 0.1)': mean_coverage_alphas.loc[mean_coverage_alphas[' alpha'] == 0.1, 'Coverage Conformal'].values[0],\n",
    "    'Mean Pred Set Size Pré-Calibração (alpha = 0.05)': mean_pred_set_alphas.loc[mean_pred_set_alphas[' alpha'] == 0.05, 'Mean Prediction Set Size Pré-calibração'].values[0],\n",
    "    'Mean Pred Set Size Pré-Calibração (alpha = 0.1)': mean_pred_set_alphas.loc[mean_pred_set_alphas[' alpha'] == 0.1, 'Mean Prediction Set Size Pré-calibração'].values[0],\n",
    "    'Mean Pred Set Size Calibrado (alpha = 0.05)': mean_pred_set_alphas.loc[mean_pred_set_alphas[' alpha'] == 0.05, 'Mean Prediction Set Size Calibrado'].values[0],\n",
    "    'Mean Pred Set Size Calibrado (alpha = 0.1)': mean_pred_set_alphas.loc[mean_pred_set_alphas[' alpha'] == 0.1, 'Mean Prediction Set Size Calibrado'].values[0],\n",
    "    'Mean Pred Set Size Conformal (alpha = 0.05)': mean_pred_set_alphas.loc[mean_pred_set_alphas[' alpha'] == 0.05, 'Mean Prediction Set Size Conformal'].values[0],\n",
    "    'Mean Pred Set Size Conformal (alpha = 0.1)': mean_pred_set_alphas.loc[mean_pred_set_alphas[' alpha'] == 0.1, 'Mean Prediction Set Size Conformal'].values[0],\n",
    "}"
   ]
  },
  {
   "cell_type": "code",
   "execution_count": null,
   "metadata": {},
   "outputs": [],
   "source": [
    "pd.DataFrame.from_dict(metrics, orient='index', columns=['Value'])"
   ]
  }
 ],
 "metadata": {
  "kernelspec": {
   "display_name": "Python 3",
   "language": "python",
   "name": "python3"
  },
  "language_info": {
   "codemirror_mode": {
    "name": "ipython",
    "version": 3
   },
   "file_extension": ".py",
   "mimetype": "text/x-python",
   "name": "python",
   "nbconvert_exporter": "python",
   "pygments_lexer": "ipython3",
   "version": "3.10.6"
  },
  "orig_nbformat": 4
 },
 "nbformat": 4,
 "nbformat_minor": 2
}
